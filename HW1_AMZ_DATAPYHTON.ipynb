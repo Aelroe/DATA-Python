{
  "cells": [
    {
      "cell_type": "markdown",
      "id": "64b779d8",
      "metadata": {
        "id": "64b779d8"
      },
      "source": [
        "## **Homework 2: Basic Markdown, Python Variables, Math Operations, User Input, and PEMDAS**\n",
        "\n",
        "This homework is designed to enhance your understanding of several fundamental concepts in Python and Jupyter Notebooks, including Markdown formatting, variable assignment, basic mathematics operations, handling user input, and the order of operations (PEMDAS).\n",
        "\n",
        "**Instructions:**\n",
        "- Answer each question in the notebook, using a Markdown cell for explanations and a code cell for Python code.\n",
        "- Ensure to execute your Python code to display the answers where applicable.\n"
      ]
    },
    {
      "cell_type": "code",
      "source": [
        "## This Code prints out Hello, World\n",
        "\n",
        "\n",
        "print(\"Hello, World!\")"
      ],
      "metadata": {
        "colab": {
          "base_uri": "https://localhost:8080/"
        },
        "id": "WHbUJDvtB_a1",
        "outputId": "57d11898-f7c9-42f1-ae9c-0ec1590b97e8"
      },
      "id": "WHbUJDvtB_a1",
      "execution_count": 13,
      "outputs": [
        {
          "output_type": "stream",
          "name": "stdout",
          "text": [
            "Hello, World!\n"
          ]
        }
      ]
    },
    {
      "cell_type": "markdown",
      "id": "ec00d08e",
      "metadata": {
        "id": "ec00d08e"
      },
      "source": [
        "1. Show what Markdown is used for in Jupyter Notebooks."
      ]
    },
    {
      "cell_type": "markdown",
      "source": [
        "- Bullet points\n",
        "- Bullet points"
      ],
      "metadata": {
        "id": "3EtISvaaGQVU"
      },
      "id": "3EtISvaaGQVU"
    },
    {
      "cell_type": "markdown",
      "id": "9f44594b",
      "metadata": {
        "id": "9f44594b"
      },
      "source": [
        "2. Show how to format text to be bold in Markdown? Provide an example."
      ]
    },
    {
      "cell_type": "markdown",
      "source": [
        "**This text will be bold**\n",
        "\n"
      ],
      "metadata": {
        "id": "p7r90eA_BPCH"
      },
      "id": "p7r90eA_BPCH"
    },
    {
      "cell_type": "markdown",
      "id": "d3729096",
      "metadata": {
        "id": "d3729096"
      },
      "source": [
        "3. Create a Python variable named `a` and assign it the value 5."
      ]
    },
    {
      "cell_type": "code",
      "execution_count": 14,
      "id": "59ee5aa4",
      "metadata": {
        "id": "59ee5aa4",
        "colab": {
          "base_uri": "https://localhost:8080/"
        },
        "outputId": "c2d5f2f8-20be-430d-c27d-e22bdcd46204"
      },
      "outputs": [
        {
          "output_type": "stream",
          "name": "stdout",
          "text": [
            "5\n"
          ]
        }
      ],
      "source": [
        "a = 5\n",
        "print(a)\n",
        "\n",
        "\n",
        "\n",
        "\n",
        "\n"
      ]
    },
    {
      "cell_type": "markdown",
      "id": "4ea5fd99",
      "metadata": {
        "id": "4ea5fd99"
      },
      "source": [
        "4. Perform an addition operation with any two numbers and display the result."
      ]
    },
    {
      "cell_type": "code",
      "execution_count": 15,
      "id": "8b419b80",
      "metadata": {
        "id": "8b419b80",
        "colab": {
          "base_uri": "https://localhost:8080/"
        },
        "outputId": "54194e41-f271-4f0f-8f9f-7ee584fd4cdb"
      },
      "outputs": [
        {
          "output_type": "stream",
          "name": "stdout",
          "text": [
            "28\n"
          ]
        }
      ],
      "source": [
        "result = 15 + 13\n",
        "print(result)\n",
        "\n",
        "\n",
        "\n",
        "\n"
      ]
    },
    {
      "cell_type": "markdown",
      "id": "809fea36",
      "metadata": {
        "id": "809fea36"
      },
      "source": [
        "5. Divide 15 by 3 and show the result."
      ]
    },
    {
      "cell_type": "code",
      "execution_count": 16,
      "id": "be300337",
      "metadata": {
        "id": "be300337",
        "colab": {
          "base_uri": "https://localhost:8080/"
        },
        "outputId": "26946929-563e-44a9-f978-2e31f77ad889"
      },
      "outputs": [
        {
          "output_type": "stream",
          "name": "stdout",
          "text": [
            "The result is: 5.0\n"
          ]
        }
      ],
      "source": [
        "\n",
        "\n",
        "result = 15 / 3\n",
        "\n",
        "print(\"The result is:\", result)\n",
        "\n",
        "\n",
        "\n",
        "\n",
        "\n"
      ]
    },
    {
      "cell_type": "markdown",
      "id": "7b0f891c",
      "metadata": {
        "id": "7b0f891c"
      },
      "source": [
        "6. Use the `input()` function to ask the user for their name and then greet them."
      ]
    },
    {
      "cell_type": "code",
      "execution_count": 17,
      "id": "ab2198cc",
      "metadata": {
        "id": "ab2198cc",
        "colab": {
          "base_uri": "https://localhost:8080/"
        },
        "outputId": "a4419104-4d35-49fe-9be3-f6873c5c57ad"
      },
      "outputs": [
        {
          "output_type": "stream",
          "name": "stdout",
          "text": [
            "Hello! What's your name? Aelroe\n",
            "Hello, Aelroe!\n"
          ]
        }
      ],
      "source": [
        "name = input(\"Hello! What's your name? \")\n",
        "print(\"Hello,\", name + \"!\")\n",
        "\n",
        "\n",
        "\n",
        "\n"
      ]
    },
    {
      "cell_type": "markdown",
      "id": "181413d2",
      "metadata": {
        "id": "181413d2"
      },
      "source": [
        "7. Calculate the square of 7 and display the result."
      ]
    },
    {
      "cell_type": "code",
      "execution_count": 18,
      "id": "18b86315",
      "metadata": {
        "id": "18b86315",
        "colab": {
          "base_uri": "https://localhost:8080/"
        },
        "outputId": "6c3c23ff-65f3-4bad-846a-203c6ddf0034"
      },
      "outputs": [
        {
          "output_type": "stream",
          "name": "stdout",
          "text": [
            "Square of 7 is: 49\n"
          ]
        }
      ],
      "source": [
        "result = 7 ** 2\n",
        "print(\"Square of 7 is:\", result)\n",
        "\n",
        "\n",
        "\n",
        "\n",
        "\n",
        "\n"
      ]
    },
    {
      "cell_type": "markdown",
      "id": "7a0f4c79",
      "metadata": {
        "id": "7a0f4c79"
      },
      "source": [
        "8. Ask the user for a number, multiply it by 2, and display the result."
      ]
    },
    {
      "cell_type": "code",
      "execution_count": 19,
      "id": "206d8834",
      "metadata": {
        "id": "206d8834",
        "colab": {
          "base_uri": "https://localhost:8080/"
        },
        "outputId": "3273121a-258b-4fc3-d89a-9e6faae279e0"
      },
      "outputs": [
        {
          "output_type": "stream",
          "name": "stdout",
          "text": [
            "Enter a number: 11\n",
            "The result of multiplying 11.0 by 2 is: 22.0\n"
          ]
        }
      ],
      "source": [
        "number = float(input(\"Enter a number: \"))\n",
        "result = number * 2\n",
        "print(\"The result of multiplying\", number, \"by 2 is:\", result)\n",
        "\n",
        "\n",
        "\n",
        "\n",
        "\n",
        "\n"
      ]
    },
    {
      "cell_type": "markdown",
      "id": "ea0dd3a5",
      "metadata": {
        "id": "ea0dd3a5"
      },
      "source": [
        "9. Write a program that converts time from hours to seconds. Ask the user to input the time in hours, and then convert that time into seconds. Remember, 1 hour equals 3600 seconds."
      ]
    },
    {
      "cell_type": "code",
      "source": [
        "hours = float(input(\"Enter the time in hours: \"))\n",
        "\n",
        "seconds = hours * 3600\n",
        "\n",
        "print(f\"{hours} hours is equal to {seconds} seconds.\")\n",
        "\n",
        "\n",
        "\n",
        "\n",
        "\n",
        "\n",
        "\n"
      ],
      "metadata": {
        "id": "K5F9Y3ZPzMlD",
        "colab": {
          "base_uri": "https://localhost:8080/"
        },
        "outputId": "559c3b6b-a277-470d-de54-7f3874c40b96"
      },
      "id": "K5F9Y3ZPzMlD",
      "execution_count": 20,
      "outputs": [
        {
          "output_type": "stream",
          "name": "stdout",
          "text": [
            "Enter the time in hours: 11\n",
            "11.0 hours is equal to 39600.0 seconds.\n"
          ]
        }
      ]
    },
    {
      "cell_type": "markdown",
      "id": "33988976",
      "metadata": {
        "id": "33988976"
      },
      "source": [
        "10. Evaluate the expression `3 * (4 + 5) - 6 / 2` and display the result."
      ]
    },
    {
      "cell_type": "code",
      "execution_count": 21,
      "id": "e346f170",
      "metadata": {
        "id": "e346f170",
        "colab": {
          "base_uri": "https://localhost:8080/"
        },
        "outputId": "054e4270-5c4c-4251-b044-d424ccaaeab7"
      },
      "outputs": [
        {
          "output_type": "stream",
          "name": "stdout",
          "text": [
            "The result of the expression 3 * (4 + 5) - 6 / 2 is: 24.0\n"
          ]
        }
      ],
      "source": [
        "result = 3 * (4 + 5) - 6 / 2\n",
        "\n",
        "print(\"The result of the expression 3 * (4 + 5) - 6 / 2 is:\", result)\n",
        "\n",
        "\n",
        "\n",
        "\n",
        "\n",
        "\n"
      ]
    },
    {
      "cell_type": "markdown",
      "id": "238b253e",
      "metadata": {
        "id": "238b253e"
      },
      "source": [
        "11. Assign the string 'Python' to a variable and print it."
      ]
    },
    {
      "cell_type": "code",
      "execution_count": 22,
      "id": "c390538f",
      "metadata": {
        "id": "c390538f",
        "colab": {
          "base_uri": "https://localhost:8080/"
        },
        "outputId": "5d0cb97e-7b6c-4324-940e-dbe7fa6f479a"
      },
      "outputs": [
        {
          "output_type": "stream",
          "name": "stdout",
          "text": [
            "Python\n"
          ]
        }
      ],
      "source": [
        "the_string = 'Python'\n",
        "print(the_string)\n",
        "\n",
        "\n",
        "\n",
        "\n",
        "\n"
      ]
    },
    {
      "cell_type": "markdown",
      "id": "7c5a89d6",
      "metadata": {
        "id": "7c5a89d6"
      },
      "source": [
        "12. Calculate the remainder when 22 is divided by 5."
      ]
    },
    {
      "cell_type": "code",
      "execution_count": 23,
      "id": "db0b5ac5",
      "metadata": {
        "id": "db0b5ac5",
        "colab": {
          "base_uri": "https://localhost:8080/"
        },
        "outputId": "54c97907-3008-4b8c-be0a-f0ef07fe0ec1"
      },
      "outputs": [
        {
          "output_type": "stream",
          "name": "stdout",
          "text": [
            "The remainder when 22 is divided by 5 is 2\n"
          ]
        }
      ],
      "source": [
        "remainder = 22 % 5\n",
        "print(\"The remainder when 22 is divided by 5 is\", remainder)\n",
        "\n",
        "\n",
        "\n",
        "\n",
        "\n",
        "\n",
        "\n"
      ]
    },
    {
      "cell_type": "markdown",
      "id": "6dbc6d95",
      "metadata": {
        "id": "6dbc6d95"
      },
      "source": [
        "\n",
        "13. Ask the user for two numbers, add them together, and display the sum."
      ]
    },
    {
      "cell_type": "code",
      "execution_count": 24,
      "id": "8fa878a0",
      "metadata": {
        "id": "8fa878a0",
        "colab": {
          "base_uri": "https://localhost:8080/"
        },
        "outputId": "a060a4b2-ba34-4928-f81a-50de60bb3181"
      },
      "outputs": [
        {
          "output_type": "stream",
          "name": "stdout",
          "text": [
            "Enter the first number: 15\n",
            "Enter the second number: 13\n",
            "The sum of 15.0 and 13.0 is: 28.0\n"
          ]
        }
      ],
      "source": [
        "num1 = float(input(\"Enter the first number: \"))\n",
        "num2 = float(input(\"Enter the second number: \"))\n",
        "sum = num1 + num2\n",
        "print(f\"The sum of {num1} and {num2} is: {sum}\")\n",
        "\n",
        "\n",
        "\n",
        "\n"
      ]
    },
    {
      "cell_type": "markdown",
      "source": [
        "14. Write a Python code snippet that takes user input and prints the type of the input variable."
      ],
      "metadata": {
        "id": "Xfr-7PXNAsTJ"
      },
      "id": "Xfr-7PXNAsTJ"
    },
    {
      "cell_type": "code",
      "source": [
        "the_input = input(\"Enter something: \")\n",
        "theinput_type = type(the_input)\n",
        "print(\"The type of the input variable is:\", theinput_type)\n",
        "\n",
        "\n",
        "\n",
        "\n",
        "\n",
        "\n"
      ],
      "metadata": {
        "id": "rM_ZHEpoAsdh",
        "colab": {
          "base_uri": "https://localhost:8080/"
        },
        "outputId": "1c3493dc-547f-4b83-f314-70b403f46ade"
      },
      "id": "rM_ZHEpoAsdh",
      "execution_count": 25,
      "outputs": [
        {
          "output_type": "stream",
          "name": "stdout",
          "text": [
            "Enter something: Aelroe\n",
            "The type of the input variable is: <class 'str'>\n"
          ]
        }
      ]
    },
    {
      "cell_type": "markdown",
      "id": "a5d705bf",
      "metadata": {
        "id": "a5d705bf"
      },
      "source": [
        "15. Calculate the product of 8 and 12, then subtract 4 and display the result."
      ]
    },
    {
      "cell_type": "code",
      "execution_count": 26,
      "id": "18b337a3",
      "metadata": {
        "id": "18b337a3",
        "colab": {
          "base_uri": "https://localhost:8080/"
        },
        "outputId": "20141714-5851-418c-eefd-2d90785e7c70"
      },
      "outputs": [
        {
          "output_type": "stream",
          "name": "stdout",
          "text": [
            "Result is: 92\n"
          ]
        }
      ],
      "source": [
        "product = 8 * 12\n",
        "result = product - 4\n",
        "print(\"Result is:\", result)\n",
        "\n",
        "\n",
        "\n",
        "\n"
      ]
    },
    {
      "cell_type": "markdown",
      "id": "672bab76",
      "metadata": {
        "id": "672bab76"
      },
      "source": [
        "16. Explain the difference between `==` and `=` in Python."
      ]
    },
    {
      "cell_type": "markdown",
      "source": [
        "== is used to compare the equality of two values and = is used for variable assignment"
      ],
      "metadata": {
        "id": "jHt5thXMO6wX"
      },
      "id": "jHt5thXMO6wX"
    },
    {
      "cell_type": "code",
      "source": [
        "x = 5\n",
        "y = 5\n",
        "print(x == y)\n",
        "\n",
        "\n",
        "\n",
        "\n",
        "\n",
        "\n",
        "\n",
        "\n"
      ],
      "metadata": {
        "id": "fOf-_TJuyqN9",
        "colab": {
          "base_uri": "https://localhost:8080/"
        },
        "outputId": "0cbc7d34-6cce-41ab-9376-4b0326bd0132"
      },
      "id": "fOf-_TJuyqN9",
      "execution_count": 27,
      "outputs": [
        {
          "output_type": "stream",
          "name": "stdout",
          "text": [
            "True\n"
          ]
        }
      ]
    },
    {
      "cell_type": "markdown",
      "id": "68b3a3ff",
      "metadata": {
        "id": "68b3a3ff"
      },
      "source": [
        "17. Use Python to find the floor division of 100 by 11."
      ]
    },
    {
      "cell_type": "code",
      "execution_count": 28,
      "id": "ae879bf3",
      "metadata": {
        "id": "ae879bf3",
        "colab": {
          "base_uri": "https://localhost:8080/"
        },
        "outputId": "37265e43-32c3-4415-d73f-b1a69edf3168"
      },
      "outputs": [
        {
          "output_type": "stream",
          "name": "stdout",
          "text": [
            "9\n"
          ]
        }
      ],
      "source": [
        "result = 100 // 11\n",
        "print(result)\n",
        "\n",
        "\n",
        "\n",
        "\n",
        "\n",
        "\n",
        "\n",
        "\n"
      ]
    },
    {
      "cell_type": "markdown",
      "id": "ffd04019",
      "metadata": {
        "id": "ffd04019"
      },
      "source": [
        "18. Ask the user for a number, then calculate the square of that number."
      ]
    },
    {
      "cell_type": "code",
      "execution_count": 29,
      "id": "c616706b",
      "metadata": {
        "id": "c616706b",
        "colab": {
          "base_uri": "https://localhost:8080/"
        },
        "outputId": "e8f16fdc-8bac-4010-b896-454408d09a7f"
      },
      "outputs": [
        {
          "output_type": "stream",
          "name": "stdout",
          "text": [
            "Enter a number: 11\n",
            "121.0\n"
          ]
        }
      ],
      "source": [
        "number = float(input(\"Enter a number: \"))\n",
        "square = number ** 2\n",
        "print(square)\n",
        "\n",
        "\n",
        "\n",
        "\n",
        "\n",
        "\n"
      ]
    },
    {
      "cell_type": "markdown",
      "id": "b1d61384",
      "metadata": {
        "id": "b1d61384"
      },
      "source": [
        "19. What does the `%` operator do in Python? Provide an example."
      ]
    },
    {
      "cell_type": "markdown",
      "source": [
        "It returns the remainder of the division operation between two numbers."
      ],
      "metadata": {
        "id": "hYLx8qSyP28k"
      },
      "id": "hYLx8qSyP28k"
    },
    {
      "cell_type": "code",
      "execution_count": 30,
      "id": "c4d33464",
      "metadata": {
        "id": "c4d33464",
        "colab": {
          "base_uri": "https://localhost:8080/"
        },
        "outputId": "e5245313-0b04-441a-94e5-91ed3035ff10"
      },
      "outputs": [
        {
          "output_type": "stream",
          "name": "stdout",
          "text": [
            "1\n"
          ]
        }
      ],
      "source": [
        "remainder = 10 % 3\n",
        "print(remainder)\n",
        "\n",
        "\n",
        "\n",
        "\n"
      ]
    },
    {
      "cell_type": "markdown",
      "id": "ff3ed06e",
      "metadata": {
        "id": "ff3ed06e"
      },
      "source": [
        "20. Using variables, demonstrate how to calculate and print the area of a rectangle (length * width)."
      ]
    },
    {
      "cell_type": "markdown",
      "source": [
        "Lets for example take length = 4 width = 5"
      ],
      "metadata": {
        "id": "1zxWEKEUQL9o"
      },
      "id": "1zxWEKEUQL9o"
    },
    {
      "cell_type": "code",
      "execution_count": 31,
      "id": "692bbc9c",
      "metadata": {
        "id": "692bbc9c",
        "colab": {
          "base_uri": "https://localhost:8080/"
        },
        "outputId": "ac47dcc2-411d-4eff-865d-2adfc78f221b"
      },
      "outputs": [
        {
          "output_type": "stream",
          "name": "stdout",
          "text": [
            "The area of the rectangle with length 4 and width 5 is: 20\n"
          ]
        }
      ],
      "source": [
        "length = 4\n",
        "width = 5\n",
        "area = length * width\n",
        "print(\"The area of the rectangle with length\", length, \"and width\", width, \"is:\", area)\n",
        "\n",
        "\n",
        "\n"
      ]
    }
  ],
  "metadata": {
    "colab": {
      "provenance": []
    },
    "language_info": {
      "name": "python"
    },
    "kernelspec": {
      "name": "python3",
      "display_name": "Python 3"
    }
  },
  "nbformat": 4,
  "nbformat_minor": 5
}